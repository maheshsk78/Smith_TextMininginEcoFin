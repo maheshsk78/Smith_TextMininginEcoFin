{
 "cells": [
  {
   "cell_type": "code",
   "execution_count": null,
   "metadata": {},
   "outputs": [],
   "source": [
    "#Mahesh Kumar"
   ]
  },
  {
   "cell_type": "code",
   "execution_count": 5,
   "metadata": {},
   "outputs": [],
   "source": [
    "#importing all required libraries\n",
    "import re\n",
    "import nltk\n",
    "from nltk.corpus import stopwords\n",
    "from nltk.stem.porter import PorterStemmer\n",
    "from nltk.corpus  import stopwords\n",
    "from sklearn.naive_bayes import MultinomialNB\n",
    "from sklearn.feature_extraction.text import CountVectorizer\n",
    "from sklearn import metrics\n",
    "from sklearn.model_selection import train_test_split"
   ]
  },
  {
   "cell_type": "code",
   "execution_count": 6,
   "metadata": {},
   "outputs": [
    {
     "data": {
      "text/html": [
       "<div>\n",
       "<style scoped>\n",
       "    .dataframe tbody tr th:only-of-type {\n",
       "        vertical-align: middle;\n",
       "    }\n",
       "\n",
       "    .dataframe tbody tr th {\n",
       "        vertical-align: top;\n",
       "    }\n",
       "\n",
       "    .dataframe thead th {\n",
       "        text-align: right;\n",
       "    }\n",
       "</style>\n",
       "<table border=\"1\" class=\"dataframe\">\n",
       "  <thead>\n",
       "    <tr style=\"text-align: right;\">\n",
       "      <th></th>\n",
       "      <th>movie_review</th>\n",
       "      <th>sentiment</th>\n",
       "    </tr>\n",
       "  </thead>\n",
       "  <tbody>\n",
       "    <tr>\n",
       "      <th>0</th>\n",
       "      <td>plot : two teen couples go to a church party ,...</td>\n",
       "      <td>neg</td>\n",
       "    </tr>\n",
       "  </tbody>\n",
       "</table>\n",
       "</div>"
      ],
      "text/plain": [
       "                                        movie_review sentiment\n",
       "0  plot : two teen couples go to a church party ,...       neg"
      ]
     },
     "execution_count": 6,
     "metadata": {},
     "output_type": "execute_result"
    }
   ],
   "source": [
    "#loading the dataset and viewing 1'st record\n",
    "import pandas as pd\n",
    "reviews = pd.read_csv(\"nltk_movie_reviews.csv\")\n",
    "reviews.head(1)"
   ]
  },
  {
   "cell_type": "code",
   "execution_count": 7,
   "metadata": {},
   "outputs": [
    {
     "name": "stderr",
     "output_type": "stream",
     "text": [
      "[nltk_data] Downloading package stopwords to\n",
      "[nltk_data]     C:\\Users\\MAHESH\\AppData\\Roaming\\nltk_data...\n",
      "[nltk_data]   Package stopwords is already up-to-date!\n"
     ]
    }
   ],
   "source": [
    "#Downloading and storing stop words for data preprocessing\n",
    "from nltk.corpus import stopwords\n",
    "nltk.download(\"stopwords\")\n",
    "sw = set(stopwords.words(\"english\"))"
   ]
  },
  {
   "cell_type": "code",
   "execution_count": 8,
   "metadata": {},
   "outputs": [],
   "source": [
    "#User-defined function to clean the strings\n",
    "def clean_text(text):\n",
    "    #Tokenize and lowercase\n",
    "    tokens = text.lower().split()\n",
    "    # Remove punctuation,keep only letters\n",
    "    tokens = [re.sub(\"[^A-Za-z]\",\"\",el) for el in tokens]\n",
    "    # Remove stopwords\n",
    "    tokens = [el for el in tokens if el not in sw]\n",
    "    return \" \".join(tokens)"
   ]
  },
  {
   "cell_type": "code",
   "execution_count": 10,
   "metadata": {},
   "outputs": [
    {
     "data": {
      "text/html": [
       "<div>\n",
       "<style scoped>\n",
       "    .dataframe tbody tr th:only-of-type {\n",
       "        vertical-align: middle;\n",
       "    }\n",
       "\n",
       "    .dataframe tbody tr th {\n",
       "        vertical-align: top;\n",
       "    }\n",
       "\n",
       "    .dataframe thead th {\n",
       "        text-align: right;\n",
       "    }\n",
       "</style>\n",
       "<table border=\"1\" class=\"dataframe\">\n",
       "  <thead>\n",
       "    <tr style=\"text-align: right;\">\n",
       "      <th></th>\n",
       "      <th>movie_review</th>\n",
       "      <th>sentiment</th>\n",
       "      <th>clean_txt</th>\n",
       "    </tr>\n",
       "  </thead>\n",
       "  <tbody>\n",
       "    <tr>\n",
       "      <th>0</th>\n",
       "      <td>plot : two teen couples go to a church party ,...</td>\n",
       "      <td>neg</td>\n",
       "      <td>plot  two teen couples go church party  drink ...</td>\n",
       "    </tr>\n",
       "    <tr>\n",
       "      <th>1</th>\n",
       "      <td>the happy bastard ' s quick movie review damn ...</td>\n",
       "      <td>neg</td>\n",
       "      <td>happy bastard  quick movie review damn yk bug ...</td>\n",
       "    </tr>\n",
       "  </tbody>\n",
       "</table>\n",
       "</div>"
      ],
      "text/plain": [
       "                                        movie_review sentiment  \\\n",
       "0  plot : two teen couples go to a church party ,...       neg   \n",
       "1  the happy bastard ' s quick movie review damn ...       neg   \n",
       "\n",
       "                                           clean_txt  \n",
       "0  plot  two teen couples go church party  drink ...  \n",
       "1  happy bastard  quick movie review damn yk bug ...  "
      ]
     },
     "execution_count": 10,
     "metadata": {},
     "output_type": "execute_result"
    }
   ],
   "source": [
    "#Pythonize way of applying functions to a dataframe\n",
    "reviews[\"clean_txt\"]  = reviews.movie_review.apply(clean_text)\n",
    "reviews.head(2)"
   ]
  },
  {
   "cell_type": "code",
   "execution_count": 66,
   "metadata": {},
   "outputs": [
    {
     "data": {
      "text/html": [
       "<div>\n",
       "<style scoped>\n",
       "    .dataframe tbody tr th:only-of-type {\n",
       "        vertical-align: middle;\n",
       "    }\n",
       "\n",
       "    .dataframe tbody tr th {\n",
       "        vertical-align: top;\n",
       "    }\n",
       "\n",
       "    .dataframe thead th {\n",
       "        text-align: right;\n",
       "    }\n",
       "</style>\n",
       "<table border=\"1\" class=\"dataframe\">\n",
       "  <thead>\n",
       "    <tr style=\"text-align: right;\">\n",
       "      <th></th>\n",
       "      <th>aa</th>\n",
       "      <th>aaa</th>\n",
       "      <th>aaaaaaaaah</th>\n",
       "      <th>aaaaaaaahhhh</th>\n",
       "      <th>aaaaaah</th>\n",
       "      <th>aaaahhhs</th>\n",
       "      <th>aahs</th>\n",
       "      <th>aaliyah</th>\n",
       "      <th>aalyah</th>\n",
       "      <th>aamir</th>\n",
       "      <th>...</th>\n",
       "      <th>zukovsky</th>\n",
       "      <th>zulu</th>\n",
       "      <th>zundel</th>\n",
       "      <th>zurg</th>\n",
       "      <th>zus</th>\n",
       "      <th>zweibel</th>\n",
       "      <th>zwick</th>\n",
       "      <th>zwigoff</th>\n",
       "      <th>zycie</th>\n",
       "      <th>zzzzzzz</th>\n",
       "    </tr>\n",
       "  </thead>\n",
       "  <tbody>\n",
       "    <tr>\n",
       "      <th>0</th>\n",
       "      <td>0</td>\n",
       "      <td>0</td>\n",
       "      <td>0</td>\n",
       "      <td>0</td>\n",
       "      <td>0</td>\n",
       "      <td>0</td>\n",
       "      <td>0</td>\n",
       "      <td>0</td>\n",
       "      <td>0</td>\n",
       "      <td>0</td>\n",
       "      <td>...</td>\n",
       "      <td>0</td>\n",
       "      <td>0</td>\n",
       "      <td>0</td>\n",
       "      <td>0</td>\n",
       "      <td>0</td>\n",
       "      <td>0</td>\n",
       "      <td>0</td>\n",
       "      <td>0</td>\n",
       "      <td>0</td>\n",
       "      <td>0</td>\n",
       "    </tr>\n",
       "    <tr>\n",
       "      <th>1</th>\n",
       "      <td>0</td>\n",
       "      <td>0</td>\n",
       "      <td>0</td>\n",
       "      <td>0</td>\n",
       "      <td>0</td>\n",
       "      <td>0</td>\n",
       "      <td>0</td>\n",
       "      <td>0</td>\n",
       "      <td>0</td>\n",
       "      <td>0</td>\n",
       "      <td>...</td>\n",
       "      <td>0</td>\n",
       "      <td>0</td>\n",
       "      <td>0</td>\n",
       "      <td>0</td>\n",
       "      <td>0</td>\n",
       "      <td>0</td>\n",
       "      <td>0</td>\n",
       "      <td>0</td>\n",
       "      <td>0</td>\n",
       "      <td>0</td>\n",
       "    </tr>\n",
       "  </tbody>\n",
       "</table>\n",
       "<p>2 rows × 38791 columns</p>\n",
       "</div>"
      ],
      "text/plain": [
       "   aa  aaa  aaaaaaaaah  aaaaaaaahhhh  aaaaaah  aaaahhhs  aahs  aaliyah  \\\n",
       "0   0    0           0             0        0         0     0        0   \n",
       "1   0    0           0             0        0         0     0        0   \n",
       "\n",
       "   aalyah  aamir  ...  zukovsky  zulu  zundel  zurg  zus  zweibel  zwick  \\\n",
       "0       0      0  ...         0     0       0     0    0        0      0   \n",
       "1       0      0  ...         0     0       0     0    0        0      0   \n",
       "\n",
       "   zwigoff  zycie  zzzzzzz  \n",
       "0        0      0        0  \n",
       "1        0      0        0  \n",
       "\n",
       "[2 rows x 38791 columns]"
      ]
     },
     "execution_count": 66,
     "metadata": {},
     "output_type": "execute_result"
    }
   ],
   "source": [
    "#Deploying tfidf on tokens in the corpus and printing it using a dataframe\n",
    "vect = CountVectorizer()\n",
    "vect.fit(reviews.clean_txt)\n",
    "reviews_dtm = vect.transform(reviews.clean_txt)\n",
    "reviews_dtm_df  = pd.DataFrame(reviews_dtm.toarray(),columns=vect.get_feature_names())\n",
    "reviews_dtm_df.head(2)"
   ]
  },
  {
   "cell_type": "code",
   "execution_count": 14,
   "metadata": {},
   "outputs": [],
   "source": [
    "#initializing Naïve Bayes Classifier\n",
    "nb = MultinomialNB()"
   ]
  },
  {
   "cell_type": "code",
   "execution_count": 48,
   "metadata": {},
   "outputs": [],
   "source": [
    "#Splitting the data into train and test sets\n",
    "X = reviews_dtm_df.values\n",
    "y = reviews.sentiment\n",
    "X_train1, X_test1, y_train1, y_test1  = train_test_split(X, y,test_size=0.80,random_state=1)#sampled into 20% training and 80% test\n",
    "X_train2, X_test2, y_train2, y_test2  = train_test_split(X, y,test_size=0.10,random_state=1)#sampled into 90% training and 10% test"
   ]
  },
  {
   "cell_type": "code",
   "execution_count": 49,
   "metadata": {},
   "outputs": [
    {
     "name": "stdout",
     "output_type": "stream",
     "text": [
      "(400, 38791)\n",
      "(1600, 38791)\n",
      "(400,)\n",
      "(1600,)\n"
     ]
    }
   ],
   "source": [
    "print(X_train1.shape)\n",
    "print(X_test1.shape)\n",
    "print(y_train1.shape)\n",
    "print(y_test1.shape)"
   ]
  },
  {
   "cell_type": "code",
   "execution_count": 50,
   "metadata": {},
   "outputs": [
    {
     "name": "stdout",
     "output_type": "stream",
     "text": [
      "(1800, 38791)\n",
      "(200, 38791)\n",
      "(1800,)\n",
      "(200,)\n"
     ]
    }
   ],
   "source": [
    "print(X_train2.shape)\n",
    "print(X_test2.shape)\n",
    "print(y_train2.shape)\n",
    "print(y_test2.shape)"
   ]
  },
  {
   "cell_type": "code",
   "execution_count": 84,
   "metadata": {},
   "outputs": [
    {
     "name": "stdout",
     "output_type": "stream",
     "text": [
      "****************Model with data sampled into 20% training and 80% test****************\n",
      "\n",
      "Accuracy of the model is: 0.76\n",
      "Confusion Matrix Looks like:\n",
      " [[654 135]\n",
      " [249 562]]\n",
      "\n",
      "Recall for 'positive' class: 0.83\n",
      "\n",
      "Recall for 'negative' class: 0.69\n",
      "\n",
      "Precision for 'positive' class: 0.72\n",
      "\n",
      "Precision for 'negative' class: 0.81\n"
     ]
    }
   ],
   "source": [
    "#80%\n",
    "nb.fit(X_train1,y_train1)\n",
    "y_pred_class1 = nb.predict(X_test1)\n",
    "print(\"****************Model with data sampled into 20% training and 80% test****************\")\n",
    "print(\"\\nAccuracy of the model is: {:.2f}\".format(metrics.accuracy_score(y_test1,y_pred_class1)))\n",
    "print(\"Confusion Matrix Looks like:\\n\",metrics.confusion_matrix(y_test1,y_pred_class1,labels=[\"pos\",\"neg\"]))\n",
    "print(\"\\nRecall for 'positive' class: {:.2f}\".format(metrics.recall_score(y_test1.values,y_pred_class1,pos_label=\"pos\")))\n",
    "print(\"\\nRecall for 'negative' class: {:.2f}\".format(metrics.recall_score(y_test1.values,y_pred_class1,pos_label=\"neg\")))\n",
    "print(\"\\nPrecision for 'positive' class: {:.2f}\".format(metrics.precision_score(y_test1.values,y_pred_class1,pos_label=\"pos\")))\n",
    "print(\"\\nPrecision for 'negative' class: {:.2f}\".format(metrics.precision_score(y_test1.values,y_pred_class1,pos_label=\"neg\")))"
   ]
  },
  {
   "cell_type": "code",
   "execution_count": 85,
   "metadata": {},
   "outputs": [
    {
     "data": {
      "image/png": "[encoded data removed]",
      "text/plain": [
       "<Figure size 432x288 with 2 Axes>"
      ]
     },
     "metadata": {
      "needs_background": "light"
     },
     "output_type": "display_data"
    }
   ],
   "source": [
    "#Plotting the confusion matrix\n",
    "from sklearn.metrics import confusion_matrix\n",
    "import seaborn as sns\n",
    "import matplotlib.pyplot as plt  \n",
    "\n",
    "cm = confusion_matrix(y_test1,y_pred_class1,labels=[\"pos\",\"neg\"])\n",
    "ax= plt.subplot()\n",
    "sns.heatmap(cm, annot=True,fmt=\"d\", ax = ax); #annot=True to annotate cells\n",
    "\n",
    "# labels, title and ticks\n",
    "ax.set_xlabel('Predicted labels');ax.set_ylabel('True labels'); \n",
    "ax.set_title('Confusion Matrix'); \n",
    "ax.xaxis.set_ticklabels(['negative', 'positive']); ax.yaxis.set_ticklabels(['negative', 'positive']);"
   ]
  },
  {
   "cell_type": "code",
   "execution_count": 86,
   "metadata": {},
   "outputs": [
    {
     "name": "stdout",
     "output_type": "stream",
     "text": [
      "****************Model with data sampled into 90% training and 10% test****************\n",
      "\n",
      "Accuracy of the model is: 0.77\n",
      "Confusion Matrix Looks like:\n",
      " [[74 28]\n",
      " [19 79]]\n",
      "\n",
      "Recall for 'positive' class: 0.73\n",
      "\n",
      "Recall for 'negative' class: 0.81\n",
      "\n",
      "Precision for 'positive' class: 0.80\n",
      "\n",
      "Precision for 'negative' class: 0.74\n"
     ]
    }
   ],
   "source": [
    "#90%\n",
    "nb.fit(X_train2,y_train2)\n",
    "y_pred_class2 = nb.predict(X_test2)\n",
    "print(\"****************Model with data sampled into 90% training and 10% test****************\")\n",
    "print(\"\\nAccuracy of the model is: {:.2f}\".format(metrics.accuracy_score(y_test2,y_pred_class2)))\n",
    "print(\"Confusion Matrix Looks like:\\n\",metrics.confusion_matrix(y_test2,y_pred_class2,labels=[\"pos\",\"neg\"]))\n",
    "print(\"\\nRecall for 'positive' class: {:.2f}\".format(metrics.recall_score(y_test2.values,y_pred_class2,pos_label=\"pos\")))\n",
    "print(\"\\nRecall for 'negative' class: {:.2f}\".format(metrics.recall_score(y_test2.values,y_pred_class2,pos_label=\"neg\")))\n",
    "print(\"\\nPrecision for 'positive' class: {:.2f}\".format(metrics.precision_score(y_test2.values,y_pred_class2,pos_label=\"pos\")))\n",
    "print(\"\\nPrecision for 'negative' class: {:.2f}\".format(metrics.precision_score(y_test2.values,y_pred_class2,pos_label=\"neg\")))"
   ]
  },
  {
   "cell_type": "code",
   "execution_count": 87,
   "metadata": {},
   "outputs": [
    {
     "data": {
      "image/png": "[encoded data removed]",
      "text/plain": [
       "<Figure size 432x288 with 2 Axes>"
      ]
     },
     "metadata": {
      "needs_background": "light"
     },
     "output_type": "display_data"
    }
   ],
   "source": [
    "#Plotting the confusion matrix\n",
    "cm = confusion_matrix(y_test2,y_pred_class2,labels=[\"pos\",\"neg\"])\n",
    "ax= plt.subplot()\n",
    "sns.heatmap(cm, annot=True,fmt=\"d\", ax = ax); #annot=True to annotate cells\n",
    "\n",
    "# labels, title and ticks\n",
    "ax.set_xlabel('Predicted labels');ax.set_ylabel('True labels'); \n",
    "ax.set_title('Confusion Matrix'); \n",
    "ax.xaxis.set_ticklabels(['negative', 'positive']); ax.yaxis.set_ticklabels(['negative', 'positive']);"
   ]
  },
  {
   "cell_type": "code",
   "execution_count": 88,
   "metadata": {},
   "outputs": [],
   "source": [
    "#Interpretation\n",
    "### ->Q>Interpret recall, precision, and accuracy\n",
    "\n",
    "### ->A> Recall is the ability of the model to accurately calculate the actual class (0,1) row-wise \n",
    "###      Recall refers to the percentage of total relevant results correctly classified by your algorithm\n",
    "\n",
    "### ->A> Precision is the ability of the model to accurately predict the predicted class (0,1) column-wise\n",
    "###      Precision refers to the percentage of your results which are relevant\n",
    "\n",
    "### ->A> Accuracy is the most intuitive performance measure and it is simply a ratio of correctly predicted observation to the \n",
    "###      total observations. Accuracy is how accurate the model is in predicting predicted class using actual class (diagonals \n",
    "###      where actual class = predicted class)\n",
    "\n",
    "### ->Q>Provide a real-world example which would make optimizing recall very important. What about optimizing precision? \n",
    "### ->Q>And accuracy? \n",
    "\n",
    "### ->A> Any kind of application where falsely predicting an actual class would be catastropic. Let's say our job is to classify the \n",
    "###      amount of impact required for an air bag to be deployed by the car. If the model get's this wrong, there could be loss  \n",
    "###      of lives \n",
    "\n",
    "### ->A> An application where if we predict the predict class incorrectly, the worse that will happen is thatour model was wrong.\n",
    "###      Assuming our job is predicting/classifying the winner of the Presidential Election, if our precision is wrong, then \n",
    "###      our output will be wrong\n",
    "### \n",
    "### ->A> If the accuracy is wrong, it could be catastrophic. Many of these high speed manned aerial vehicles use models  \n",
    "###      run on accuracy. An error of even 1 basis point could lead to system failure and ultimately loss of life.  "
   ]
  },
  {
   "cell_type": "code",
   "execution_count": 89,
   "metadata": {},
   "outputs": [],
   "source": [
    "##########Q2"
   ]
  },
  {
   "cell_type": "code",
   "execution_count": 90,
   "metadata": {},
   "outputs": [],
   "source": [
    "X = reviews_dtm_df.values\n",
    "y = reviews[\"sentiment\"]\n",
    "X_train, X_test, y_train, y_test  = train_test_split(X, y,random_state=1)"
   ]
  },
  {
   "cell_type": "code",
   "execution_count": 91,
   "metadata": {},
   "outputs": [
    {
     "data": {
      "text/plain": [
       "(500, 38791)"
      ]
     },
     "execution_count": 91,
     "metadata": {},
     "output_type": "execute_result"
    }
   ],
   "source": [
    "X_train.shape\n",
    "X_test.shape"
   ]
  },
  {
   "cell_type": "code",
   "execution_count": 92,
   "metadata": {},
   "outputs": [
    {
     "data": {
      "text/plain": [
       "SVC(kernel='linear')"
      ]
     },
     "execution_count": 92,
     "metadata": {},
     "output_type": "execute_result"
    }
   ],
   "source": [
    "from sklearn import svm\n",
    "SVM = svm.SVC(C=1.0,kernel='linear')\n",
    "SVM.fit(X_train,y_train)"
   ]
  },
  {
   "cell_type": "code",
   "execution_count": 93,
   "metadata": {},
   "outputs": [
    {
     "name": "stdout",
     "output_type": "stream",
     "text": [
      "0.81\n"
     ]
    }
   ],
   "source": [
    "predictions_SVM = SVM.predict(X_test)\n",
    "print(metrics.accuracy_score(predictions_SVM,y_test))"
   ]
  },
  {
   "cell_type": "code",
   "execution_count": 94,
   "metadata": {},
   "outputs": [
    {
     "name": "stdout",
     "output_type": "stream",
     "text": [
      "\n",
      "Recall for 'positive' class: 0.79\n",
      "\n",
      "Recall for 'negative' class: 0.83\n",
      "\n",
      "Precision for 'positive' class: 0.83\n",
      "\n",
      "Precision for 'negative' class: 0.79\n"
     ]
    }
   ],
   "source": [
    "print(\"\\nRecall for 'positive' class: {:.2f}\".format(metrics.recall_score(predictions_SVM,y_test,pos_label=\"pos\")))\n",
    "print(\"\\nRecall for 'negative' class: {:.2f}\".format(metrics.recall_score(predictions_SVM,y_test,pos_label=\"neg\")))\n",
    "print(\"\\nPrecision for 'positive' class: {:.2f}\".format(metrics.precision_score(predictions_SVM,y_test,pos_label=\"pos\")))\n",
    "print(\"\\nPrecision for 'negative' class: {:.2f}\".format(metrics.precision_score(predictions_SVM,y_test,pos_label=\"neg\")))"
   ]
  },
  {
   "cell_type": "code",
   "execution_count": null,
   "metadata": {},
   "outputs": [],
   "source": [
    "# Looking at the performance metrics - accuracy, recall, and precision; SVM performs better than NBC\n",
    "#This makes sense intutively also because NBC is 'naive' when it uses the prior probability"
   ]
  }
 ],
 "metadata": {
  "kernelspec": {
   "display_name": "Python 3",
   "language": "python",
   "name": "python3"
  },
  "language_info": {
   "codemirror_mode": {
    "name": "ipython",
    "version": 3
   },
   "file_extension": ".py",
   "mimetype": "text/x-python",
   "name": "python",
   "nbconvert_exporter": "python",
   "pygments_lexer": "ipython3",
   "version": "3.8.3"
  }
 },
 "nbformat": 4,
 "nbformat_minor": 4
}
