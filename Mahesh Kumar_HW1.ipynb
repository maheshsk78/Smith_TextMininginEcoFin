{
 "cells": [
  {
   "cell_type": "code",
   "execution_count": null,
   "metadata": {},
   "outputs": [],
   "source": [
    "#####Q1"
   ]
  },
  {
   "cell_type": "code",
   "execution_count": 6,
   "metadata": {},
   "outputs": [],
   "source": [
    "import pandas as pd"
   ]
  },
  {
   "cell_type": "code",
   "execution_count": 10,
   "metadata": {},
   "outputs": [
    {
     "data": {
      "text/plain": [
       "'C:\\\\Users\\\\MAHESH'"
      ]
     },
     "execution_count": 10,
     "metadata": {},
     "output_type": "execute_result"
    }
   ],
   "source": [
    "import os\n",
    "os.getcwd()"
   ]
  },
  {
   "cell_type": "code",
   "execution_count": 67,
   "metadata": {},
   "outputs": [],
   "source": [
    "df=pd.read_csv(\"FOMC_minutes.csv\")"
   ]
  },
  {
   "cell_type": "code",
   "execution_count": 68,
   "metadata": {},
   "outputs": [
    {
     "data": {
      "text/html": [
       "<div>\n",
       "<style scoped>\n",
       "    .dataframe tbody tr th:only-of-type {\n",
       "        vertical-align: middle;\n",
       "    }\n",
       "\n",
       "    .dataframe tbody tr th {\n",
       "        vertical-align: top;\n",
       "    }\n",
       "\n",
       "    .dataframe thead th {\n",
       "        text-align: right;\n",
       "    }\n",
       "</style>\n",
       "<table border=\"1\" class=\"dataframe\">\n",
       "  <thead>\n",
       "    <tr style=\"text-align: right;\">\n",
       "      <th></th>\n",
       "      <th>date</th>\n",
       "      <th>statements</th>\n",
       "    </tr>\n",
       "  </thead>\n",
       "  <tbody>\n",
       "    <tr>\n",
       "      <th>0</th>\n",
       "      <td>2/4/1994</td>\n",
       "      <td>Chairman Alan Greenspan announced today that t...</td>\n",
       "    </tr>\n",
       "  </tbody>\n",
       "</table>\n",
       "</div>"
      ],
      "text/plain": [
       "       date                                         statements\n",
       "0  2/4/1994  Chairman Alan Greenspan announced today that t..."
      ]
     },
     "execution_count": 68,
     "metadata": {},
     "output_type": "execute_result"
    }
   ],
   "source": [
    "df.head(1)"
   ]
  },
  {
   "cell_type": "code",
   "execution_count": 69,
   "metadata": {},
   "outputs": [],
   "source": [
    "df['new_date']=pd.to_datetime(df['date'])"
   ]
  },
  {
   "cell_type": "code",
   "execution_count": 169,
   "metadata": {},
   "outputs": [],
   "source": [
    "def get_year(x):\n",
    "    return x.year\n",
    "\n",
    "def get_month(x):\n",
    "    return x.month\n",
    "\n",
    "#Defined it this way because many times fiscal year\n",
    "#/accounting year & financial years are different\n",
    "def get_q(x):\n",
    "    if(x.month==1 or x.month==2 or x.month==3):\n",
    "        return 'Q1'\n",
    "    elif(x.month==4 or x.month==5 or x.month==6):\n",
    "        return 'Q2'\n",
    "    elif(x.month==7 or x.month==8 or x.month==9):\n",
    "        return 'Q3'\n",
    "    else:\n",
    "        return 'Q4'"
   ]
  },
  {
   "cell_type": "code",
   "execution_count": 93,
   "metadata": {},
   "outputs": [
    {
     "data": {
      "text/html": [
       "<div>\n",
       "<style scoped>\n",
       "    .dataframe tbody tr th:only-of-type {\n",
       "        vertical-align: middle;\n",
       "    }\n",
       "\n",
       "    .dataframe tbody tr th {\n",
       "        vertical-align: top;\n",
       "    }\n",
       "\n",
       "    .dataframe thead th {\n",
       "        text-align: right;\n",
       "    }\n",
       "</style>\n",
       "<table border=\"1\" class=\"dataframe\">\n",
       "  <thead>\n",
       "    <tr style=\"text-align: right;\">\n",
       "      <th></th>\n",
       "      <th>date</th>\n",
       "      <th>statements</th>\n",
       "      <th>new_date</th>\n",
       "      <th>year</th>\n",
       "      <th>month</th>\n",
       "      <th>quarter</th>\n",
       "    </tr>\n",
       "  </thead>\n",
       "  <tbody>\n",
       "    <tr>\n",
       "      <th>0</th>\n",
       "      <td>2/4/1994</td>\n",
       "      <td>Chairman Alan Greenspan announced today that t...</td>\n",
       "      <td>1994-02-04</td>\n",
       "      <td>1994</td>\n",
       "      <td>2</td>\n",
       "      <td>Q1</td>\n",
       "    </tr>\n",
       "    <tr>\n",
       "      <th>1</th>\n",
       "      <td>3/22/1994</td>\n",
       "      <td>Chairman Alan Greenspan announced today that t...</td>\n",
       "      <td>1994-03-22</td>\n",
       "      <td>1994</td>\n",
       "      <td>3</td>\n",
       "      <td>Q1</td>\n",
       "    </tr>\n",
       "    <tr>\n",
       "      <th>2</th>\n",
       "      <td>4/18/1994</td>\n",
       "      <td>Chairman Alan Greenspan announced today that t...</td>\n",
       "      <td>1994-04-18</td>\n",
       "      <td>1994</td>\n",
       "      <td>4</td>\n",
       "      <td>Q2</td>\n",
       "    </tr>\n",
       "  </tbody>\n",
       "</table>\n",
       "</div>"
      ],
      "text/plain": [
       "        date                                         statements   new_date  \\\n",
       "0   2/4/1994  Chairman Alan Greenspan announced today that t... 1994-02-04   \n",
       "1  3/22/1994  Chairman Alan Greenspan announced today that t... 1994-03-22   \n",
       "2  4/18/1994  Chairman Alan Greenspan announced today that t... 1994-04-18   \n",
       "\n",
       "   year  month quarter  \n",
       "0  1994      2      Q1  \n",
       "1  1994      3      Q1  \n",
       "2  1994      4      Q2  "
      ]
     },
     "execution_count": 93,
     "metadata": {},
     "output_type": "execute_result"
    }
   ],
   "source": [
    "df['year']=df.new_date.apply(get_year)\n",
    "df['month']=df.new_date.apply(get_month)\n",
    "df['quarter']=df.new_date.apply(get_q)\n",
    "df.head(3)"
   ]
  },
  {
   "cell_type": "code",
   "execution_count": 102,
   "metadata": {},
   "outputs": [],
   "source": [
    "df['words']=df.statements.str.findall(r\"\\w+\\s\")\n",
    "df['WordCount']=df.words.apply(len)"
   ]
  },
  {
   "cell_type": "code",
   "execution_count": 104,
   "metadata": {},
   "outputs": [
    {
     "data": {
      "text/html": [
       "<div>\n",
       "<style scoped>\n",
       "    .dataframe tbody tr th:only-of-type {\n",
       "        vertical-align: middle;\n",
       "    }\n",
       "\n",
       "    .dataframe tbody tr th {\n",
       "        vertical-align: top;\n",
       "    }\n",
       "\n",
       "    .dataframe thead th {\n",
       "        text-align: right;\n",
       "    }\n",
       "</style>\n",
       "<table border=\"1\" class=\"dataframe\">\n",
       "  <thead>\n",
       "    <tr style=\"text-align: right;\">\n",
       "      <th></th>\n",
       "      <th>date</th>\n",
       "      <th>statements</th>\n",
       "      <th>new_date</th>\n",
       "      <th>year</th>\n",
       "      <th>month</th>\n",
       "      <th>quarter</th>\n",
       "      <th>words</th>\n",
       "      <th>WordCount</th>\n",
       "    </tr>\n",
       "  </thead>\n",
       "  <tbody>\n",
       "    <tr>\n",
       "      <th>0</th>\n",
       "      <td>2/4/1994</td>\n",
       "      <td>Chairman Alan Greenspan announced today that t...</td>\n",
       "      <td>1994-02-04</td>\n",
       "      <td>1994</td>\n",
       "      <td>2</td>\n",
       "      <td>Q1</td>\n",
       "      <td>[Chairman , Alan , Greenspan , announced , tod...</td>\n",
       "      <td>94</td>\n",
       "    </tr>\n",
       "    <tr>\n",
       "      <th>1</th>\n",
       "      <td>3/22/1994</td>\n",
       "      <td>Chairman Alan Greenspan announced today that t...</td>\n",
       "      <td>1994-03-22</td>\n",
       "      <td>1994</td>\n",
       "      <td>3</td>\n",
       "      <td>Q1</td>\n",
       "      <td>[Chairman , Alan , Greenspan , announced , tod...</td>\n",
       "      <td>37</td>\n",
       "    </tr>\n",
       "    <tr>\n",
       "      <th>2</th>\n",
       "      <td>4/18/1994</td>\n",
       "      <td>Chairman Alan Greenspan announced today that t...</td>\n",
       "      <td>1994-04-18</td>\n",
       "      <td>1994</td>\n",
       "      <td>4</td>\n",
       "      <td>Q2</td>\n",
       "      <td>[Chairman , Alan , Greenspan , announced , tod...</td>\n",
       "      <td>34</td>\n",
       "    </tr>\n",
       "  </tbody>\n",
       "</table>\n",
       "</div>"
      ],
      "text/plain": [
       "        date                                         statements   new_date  \\\n",
       "0   2/4/1994  Chairman Alan Greenspan announced today that t... 1994-02-04   \n",
       "1  3/22/1994  Chairman Alan Greenspan announced today that t... 1994-03-22   \n",
       "2  4/18/1994  Chairman Alan Greenspan announced today that t... 1994-04-18   \n",
       "\n",
       "   year  month quarter                                              words  \\\n",
       "0  1994      2      Q1  [Chairman , Alan , Greenspan , announced , tod...   \n",
       "1  1994      3      Q1  [Chairman , Alan , Greenspan , announced , tod...   \n",
       "2  1994      4      Q2  [Chairman , Alan , Greenspan , announced , tod...   \n",
       "\n",
       "   WordCount  \n",
       "0         94  \n",
       "1         37  \n",
       "2         34  "
      ]
     },
     "execution_count": 104,
     "metadata": {},
     "output_type": "execute_result"
    }
   ],
   "source": [
    "df.head(3)"
   ]
  },
  {
   "cell_type": "code",
   "execution_count": 106,
   "metadata": {},
   "outputs": [
    {
     "name": "stdout",
     "output_type": "stream",
     "text": [
      "quarter\n",
      "Q1    12613\n",
      "Q2    11930\n",
      "Q3    11881\n",
      "Q4    13122\n",
      "Name: WordCount, dtype: int64\n"
     ]
    }
   ],
   "source": [
    "frame1=df.groupby('quarter').sum()\n",
    "print(frame1['WordCount'])"
   ]
  },
  {
   "cell_type": "code",
   "execution_count": 114,
   "metadata": {},
   "outputs": [
    {
     "data": {
      "text/plain": [
       "[<matplotlib.lines.Line2D at 0x1d8be4e6880>]"
      ]
     },
     "execution_count": 114,
     "metadata": {},
     "output_type": "execute_result"
    },
    {
     "data": {
      "image/png": "[encoded data removed]",
      "text/plain": [
       "<Figure size 432x288 with 1 Axes>"
      ]
     },
     "metadata": {
      "needs_background": "light"
     },
     "output_type": "display_data"
    }
   ],
   "source": [
    "import matplotlib.pyplot as plt\n",
    "plt.plot(frame1['WordCount'])"
   ]
  },
  {
   "cell_type": "code",
   "execution_count": null,
   "metadata": {},
   "outputs": [],
   "source": [
    "#####Q2"
   ]
  },
  {
   "cell_type": "code",
   "execution_count": 115,
   "metadata": {},
   "outputs": [],
   "source": [
    "import numpy as np"
   ]
  },
  {
   "cell_type": "code",
   "execution_count": 121,
   "metadata": {},
   "outputs": [
    {
     "data": {
      "text/plain": [
       "array([[183, 108, 414, 101, 194]])"
      ]
     },
     "execution_count": 121,
     "metadata": {},
     "output_type": "execute_result"
    }
   ],
   "source": [
    "np.random.multinomial(1000, [0.2,0.1,0.4,0.1,0.20], size=1)"
   ]
  },
  {
   "cell_type": "code",
   "execution_count": 122,
   "metadata": {},
   "outputs": [
    {
     "data": {
      "text/plain": [
       "array([[204, 113, 386,  99, 198],\n",
       "       [196,  91, 387, 113, 213],\n",
       "       [201,  93, 409,  88, 209],\n",
       "       [208,  94, 408,  83, 207],\n",
       "       [226, 107, 388,  94, 185],\n",
       "       [200,  94, 412, 101, 193],\n",
       "       [201, 109, 383, 110, 197],\n",
       "       [181,  84, 427,  90, 218],\n",
       "       [215, 104, 394, 100, 187],\n",
       "       [208, 112, 395,  95, 190],\n",
       "       [194,  91, 436,  90, 189],\n",
       "       [209, 107, 376, 113, 195],\n",
       "       [216,  90, 395, 103, 196],\n",
       "       [197, 105, 388,  96, 214],\n",
       "       [203, 103, 388,  96, 210],\n",
       "       [195,  89, 406, 102, 208],\n",
       "       [201,  88, 395, 103, 213],\n",
       "       [218, 102, 407,  84, 189],\n",
       "       [207,  95, 412, 104, 182],\n",
       "       [194, 107, 420,  93, 186],\n",
       "       [219,  84, 387, 103, 207],\n",
       "       [211,  70, 409, 114, 196],\n",
       "       [220,  92, 388, 111, 189],\n",
       "       [203, 131, 376, 104, 186],\n",
       "       [212, 120, 369, 103, 196],\n",
       "       [212,  86, 400, 104, 198],\n",
       "       [201, 101, 385,  97, 216],\n",
       "       [208,  83, 396, 108, 205],\n",
       "       [181, 108, 394, 118, 199],\n",
       "       [209,  92, 398, 103, 198],\n",
       "       [198, 108, 416,  75, 203],\n",
       "       [191,  89, 393, 113, 214],\n",
       "       [194, 103, 392,  92, 219],\n",
       "       [195, 109, 414, 103, 179],\n",
       "       [193,  92, 376, 125, 214],\n",
       "       [183,  92, 424,  94, 207],\n",
       "       [203,  96, 384, 100, 217],\n",
       "       [195, 105, 403, 105, 192],\n",
       "       [198, 110, 388,  98, 206],\n",
       "       [214, 108, 377, 101, 200],\n",
       "       [182, 102, 415, 111, 190],\n",
       "       [208,  97, 397, 108, 190],\n",
       "       [188, 121, 377, 114, 200],\n",
       "       [208, 105, 376,  99, 212],\n",
       "       [200,  98, 414, 101, 187],\n",
       "       [205, 101, 397, 103, 194],\n",
       "       [198, 104, 414,  89, 195],\n",
       "       [223,  76, 399, 108, 194],\n",
       "       [157, 121, 407, 113, 202],\n",
       "       [226, 101, 389,  79, 205],\n",
       "       [190,  98, 428,  98, 186],\n",
       "       [209,  93, 400,  94, 204],\n",
       "       [195, 105, 390, 112, 198],\n",
       "       [209,  88, 414,  86, 203],\n",
       "       [207,  89, 423,  98, 183],\n",
       "       [218,  93, 394,  85, 210],\n",
       "       [207,  97, 408, 129, 159],\n",
       "       [205, 100, 398, 102, 195],\n",
       "       [188, 106, 384, 107, 215],\n",
       "       [199, 111, 387, 100, 203],\n",
       "       [197,  99, 426, 104, 174],\n",
       "       [203,  85, 425,  92, 195],\n",
       "       [159, 103, 428, 101, 209],\n",
       "       [183, 113, 380,  95, 229],\n",
       "       [193,  94, 409,  83, 221],\n",
       "       [207,  91, 406, 100, 196],\n",
       "       [193,  96, 414, 103, 194],\n",
       "       [204,  89, 397, 109, 201],\n",
       "       [206,  95, 409,  99, 191],\n",
       "       [197,  97, 395, 102, 209],\n",
       "       [188,  93, 422, 107, 190],\n",
       "       [187,  92, 404, 102, 215],\n",
       "       [212, 112, 393,  89, 194],\n",
       "       [212,  89, 388, 114, 197],\n",
       "       [202, 105, 368, 117, 208],\n",
       "       [212,  81, 388, 101, 218],\n",
       "       [211,  97, 407,  99, 186],\n",
       "       [205,  76, 428, 108, 183],\n",
       "       [190, 120, 392, 120, 178],\n",
       "       [201, 122, 400, 112, 165],\n",
       "       [203, 119, 404,  83, 191],\n",
       "       [209,  94, 384, 112, 201],\n",
       "       [224,  81, 410,  86, 199],\n",
       "       [230, 105, 372, 100, 193],\n",
       "       [203,  97, 397,  97, 206],\n",
       "       [207,  97, 419,  94, 183],\n",
       "       [209, 107, 377, 108, 199],\n",
       "       [190, 113, 423, 106, 168],\n",
       "       [178, 101, 417, 117, 187],\n",
       "       [213, 103, 410,  76, 198],\n",
       "       [197, 113, 408, 100, 182],\n",
       "       [193,  86, 413, 102, 206],\n",
       "       [199, 104, 413, 108, 176],\n",
       "       [189, 100, 430, 110, 171],\n",
       "       [195,  94, 408, 103, 200],\n",
       "       [213,  93, 374, 117, 203],\n",
       "       [204, 115, 399,  91, 191],\n",
       "       [203,  98, 391, 112, 196],\n",
       "       [240,  93, 380, 106, 181],\n",
       "       [176, 113, 401,  93, 217]])"
      ]
     },
     "execution_count": 122,
     "metadata": {},
     "output_type": "execute_result"
    }
   ],
   "source": [
    "np.random.multinomial(1000, [0.2,0.1,0.4,0.1,0.20], size=100)"
   ]
  },
  {
   "cell_type": "code",
   "execution_count": 131,
   "metadata": {},
   "outputs": [
    {
     "data": {
      "text/plain": [
       "array([20223,  9910, 40068,  9904, 19895])"
      ]
     },
     "execution_count": 131,
     "metadata": {},
     "output_type": "execute_result"
    }
   ],
   "source": [
    "np.random.multinomial(1000, [0.2,0.1,0.4,0.1,0.20], size=100).sum(0)"
   ]
  },
  {
   "cell_type": "code",
   "execution_count": 158,
   "metadata": {},
   "outputs": [
    {
     "data": {
      "text/plain": [
       "array([0.19989, 0.09966, 0.40042, 0.10099, 0.19904])"
      ]
     },
     "execution_count": 158,
     "metadata": {},
     "output_type": "execute_result"
    }
   ],
   "source": [
    "np.random.multinomial(1000, [0.2,0.1,0.4,0.1,0.20], size=100).sum(0)/(1000*100)"
   ]
  },
  {
   "cell_type": "code",
   "execution_count": 165,
   "metadata": {},
   "outputs": [
    {
     "data": {
      "text/plain": [
       "[<matplotlib.lines.Line2D at 0x1d8bfc374f0>]"
      ]
     },
     "execution_count": 165,
     "metadata": {},
     "output_type": "execute_result"
    },
    {
     "data": {
      "image/png": "[encoded data removed]",
      "text/plain": [
       "<Figure size 576x360 with 1 Axes>"
      ]
     },
     "metadata": {
      "needs_background": "light"
     },
     "output_type": "display_data"
    }
   ],
   "source": [
    "proportion=np.random.multinomial(1000, [0.2,0.1,0.4,0.1,0.20], size=100).sum(0)/(1000*100)\n",
    "x_lab=['inflation','employment','interest rates','international trade','banking sector']\n",
    "t1=pd.DataFrame(proportion)\n",
    "t1.index = x_lab\n",
    "plt.figure(figsize=(8, 5))\n",
    "plt.plot(t1,'-ok', color='gray',\n",
    "         markersize=7, linewidth=2,\n",
    "         markerfacecolor='white',\n",
    "         markeredgecolor='gray',\n",
    "         markeredgewidth=1)"
   ]
  },
  {
   "cell_type": "code",
   "execution_count": 168,
   "metadata": {},
   "outputs": [
    {
     "data": {
      "text/plain": [
       "<matplotlib.axes._subplots.AxesSubplot at 0x1d8c0d4e130>"
      ]
     },
     "execution_count": 168,
     "metadata": {},
     "output_type": "execute_result"
    },
    {
     "data": {
      "image/png": "[encoded data removed]",
      "text/plain": [
       "<Figure size 432x288 with 1 Axes>"
      ]
     },
     "metadata": {
      "needs_background": "light"
     },
     "output_type": "display_data"
    }
   ],
   "source": [
    "t1.plot.barh(legend=False)"
   ]
  },
  {
   "cell_type": "code",
   "execution_count": null,
   "metadata": {},
   "outputs": [],
   "source": [
    "#By increasing the number of simulations, the proportion of words suggest that\n",
    "#the expected mean tends closer to true mean"
   ]
  }
 ],
 "metadata": {
  "kernelspec": {
   "display_name": "Python 3",
   "language": "python",
   "name": "python3"
  },
  "language_info": {
   "codemirror_mode": {
    "name": "ipython",
    "version": 3
   },
   "file_extension": ".py",
   "mimetype": "text/x-python",
   "name": "python",
   "nbconvert_exporter": "python",
   "pygments_lexer": "ipython3",
   "version": "3.8.3"
  }
 },
 "nbformat": 4,
 "nbformat_minor": 4
}
